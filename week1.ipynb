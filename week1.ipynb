{
 "cells": [
  {
   "cell_type": "markdown",
   "id": "explicit-gates",
   "metadata": {},
   "source": [
    "This is for Applied Data Science Capstone with IBM"
   ]
  },
  {
   "cell_type": "code",
   "execution_count": 2,
   "id": "compound-advance",
   "metadata": {},
   "outputs": [],
   "source": [
    "import numpy as np\n",
    "import pandas as pd "
   ]
  },
  {
   "cell_type": "code",
   "execution_count": 4,
   "id": "amended-compiler",
   "metadata": {},
   "outputs": [
    {
     "name": "stdout",
     "output_type": "stream",
     "text": [
      "Hello Capstone Project Course!\n"
     ]
    }
   ],
   "source": [
    "print(\"Hello Capstone Project Course!\")"
   ]
  },
  {
   "cell_type": "code",
   "execution_count": null,
   "id": "requested-documentation",
   "metadata": {},
   "outputs": [],
   "source": []
  }
 ],
 "metadata": {
  "kernelspec": {
   "display_name": "Python 3",
   "language": "python",
   "name": "python3"
  },
  "language_info": {
   "codemirror_mode": {
    "name": "ipython",
    "version": 3
   },
   "file_extension": ".py",
   "mimetype": "text/x-python",
   "name": "python",
   "nbconvert_exporter": "python",
   "pygments_lexer": "ipython3",
   "version": "3.7.8"
  }
 },
 "nbformat": 4,
 "nbformat_minor": 5
}
